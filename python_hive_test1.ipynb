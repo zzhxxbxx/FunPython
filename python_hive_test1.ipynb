{
 "cells": [
  {
   "cell_type": "code",
   "execution_count": 4,
   "metadata": {
    "collapsed": false
   },
   "outputs": [
    {
     "name": "stderr",
     "output_type": "stream",
     "text": [
      "WARNING:impala._thrift_api:Unable to import 'sasl'. Fallback to 'puresasl'.\n"
     ]
    },
    {
     "name": "stdout",
     "output_type": "stream",
     "text": [
      "[('tab_name', 'STRING', None, None, None, None, None)]\n",
      "('behavior_read_history',)\n",
      "('test',)\n"
     ]
    }
   ],
   "source": [
    "from impala.dbapi import connect\n",
    "conn = connect(host='hadoop1', port=10000, auth_mechanism='PLAIN', database='fj_prod_data')\n",
    "cursor = conn.cursor()\n",
    "cursor.execute('SHOW TABLES')\n",
    "print cursor.description  # prints the result set's schema\n",
    "for table in cursor.fetchall():\n",
    "    print table\n",
    "results = cursor.fetchall()\n",
    "conn.close()"
   ]
  },
  {
   "cell_type": "code",
   "execution_count": null,
   "metadata": {
    "collapsed": true
   },
   "outputs": [],
   "source": []
  }
 ],
 "metadata": {
  "kernelspec": {
   "display_name": "Python 2",
   "language": "python",
   "name": "python2"
  },
  "language_info": {
   "codemirror_mode": {
    "name": "ipython",
    "version": 2
   },
   "file_extension": ".py",
   "mimetype": "text/x-python",
   "name": "python",
   "nbconvert_exporter": "python",
   "pygments_lexer": "ipython2",
   "version": "2.7.13"
  }
 },
 "nbformat": 4,
 "nbformat_minor": 0
}
